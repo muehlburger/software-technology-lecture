{
 "cells": [
  {
   "cell_type": "markdown",
   "id": "0689733d",
   "metadata": {},
   "source": [
    "# Retrieval\n",
    "\n",
    "Retrieval is the centerpiece of our retrieval augmented generation (RAG) flow. \n",
    "\n",
    "Let's get our vectorDB from before."
   ]
  },
  {
   "cell_type": "markdown",
   "id": "ed2569c6",
   "metadata": {},
   "source": [
    "## Vectorstore retrieval\n"
   ]
  },
  {
   "cell_type": "code",
   "execution_count": 1,
   "id": "51b15e5c-9b92-4d40-a149-b56335d330d9",
   "metadata": {
    "height": 166,
    "tags": []
   },
   "outputs": [],
   "source": [
    "import os\n",
    "import openai\n",
    "import sys\n",
    "sys.path.append('../..')\n",
    "\n",
    "from dotenv import load_dotenv, find_dotenv\n",
    "_ = load_dotenv(find_dotenv()) # read local .env file\n",
    "\n",
    "openai.api_key  = os.environ['OPENAI_API_KEY']"
   ]
  },
  {
   "cell_type": "code",
   "execution_count": 2,
   "id": "c18f8a7b-62af-403e-9877-18d1c2265b4f",
   "metadata": {
    "height": 30,
    "tags": []
   },
   "outputs": [],
   "source": [
    "#!pip install lark"
   ]
  },
  {
   "cell_type": "markdown",
   "id": "c2d552e1",
   "metadata": {},
   "source": [
    "### Similarity Search"
   ]
  },
  {
   "cell_type": "code",
   "execution_count": 3,
   "id": "fe368042",
   "metadata": {
    "height": 64,
    "tags": []
   },
   "outputs": [],
   "source": [
    "from langchain.vectorstores import Chroma\n",
    "from langchain_openai import OpenAIEmbeddings\n",
    "persist_directory = 'docs/chroma/'"
   ]
  },
  {
   "cell_type": "code",
   "execution_count": 4,
   "id": "a0189dc5",
   "metadata": {
    "height": 98,
    "tags": []
   },
   "outputs": [],
   "source": [
    "embedding = OpenAIEmbeddings()\n",
    "vectordb = Chroma(\n",
    "    persist_directory=persist_directory,\n",
    "    embedding_function=embedding\n",
    ")"
   ]
  },
  {
   "cell_type": "code",
   "execution_count": 5,
   "id": "3659e0f7",
   "metadata": {
    "height": 30,
    "tags": []
   },
   "outputs": [
    {
     "name": "stdout",
     "output_type": "stream",
     "text": [
      "1531\n"
     ]
    }
   ],
   "source": [
    "print(vectordb._collection.count())"
   ]
  },
  {
   "cell_type": "code",
   "execution_count": 7,
   "id": "a807c758",
   "metadata": {
    "height": 98,
    "tags": []
   },
   "outputs": [],
   "source": [
    "texts = [\n",
    "    \"\"\"The Amanita phalloides has a large and imposing epigeous (aboveground) fruiting body (basidiocarp).\"\"\",\n",
    "    \"\"\"A mushroom with a large fruiting body is the Amanita phalloides. Some varieties are all-white.\"\"\",\n",
    "    \"\"\"A. phalloides, a.k.a Death Cap, is one of the most poisonous of all known mushrooms.\"\"\",\n",
    "]"
   ]
  },
  {
   "cell_type": "code",
   "execution_count": 8,
   "id": "715d54f3",
   "metadata": {
    "height": 30,
    "tags": []
   },
   "outputs": [],
   "source": [
    "smalldb = Chroma.from_texts(texts, embedding=embedding)"
   ]
  },
  {
   "cell_type": "code",
   "execution_count": 9,
   "id": "9a37b5a5",
   "metadata": {
    "height": 30,
    "tags": []
   },
   "outputs": [],
   "source": [
    "question = \"Tell me about all-white mushrooms with large fruiting bodies\""
   ]
  },
  {
   "cell_type": "code",
   "execution_count": 10,
   "id": "24e3b025",
   "metadata": {
    "height": 30,
    "tags": []
   },
   "outputs": [
    {
     "data": {
      "text/plain": [
       "[Document(page_content='A mushroom with a large fruiting body is the Amanita phalloides. Some varieties are all-white.'),\n",
       " Document(page_content='The Amanita phalloides has a large and imposing epigeous (aboveground) fruiting body (basidiocarp).')]"
      ]
     },
     "execution_count": 10,
     "metadata": {},
     "output_type": "execute_result"
    }
   ],
   "source": [
    "smalldb.similarity_search(question, k=2)"
   ]
  },
  {
   "cell_type": "code",
   "execution_count": 11,
   "id": "4daa6c0d",
   "metadata": {
    "height": 30,
    "tags": []
   },
   "outputs": [
    {
     "data": {
      "text/plain": [
       "[Document(page_content='A mushroom with a large fruiting body is the Amanita phalloides. Some varieties are all-white.'),\n",
       " Document(page_content='A. phalloides, a.k.a Death Cap, is one of the most poisonous of all known mushrooms.')]"
      ]
     },
     "execution_count": 11,
     "metadata": {},
     "output_type": "execute_result"
    }
   ],
   "source": [
    "smalldb.max_marginal_relevance_search(question,k=2, fetch_k=3)"
   ]
  },
  {
   "cell_type": "markdown",
   "id": "5a29e8c9",
   "metadata": {},
   "source": [
    "### Addressing Diversity: Maximum marginal relevance\n",
    "\n",
    "Last class we introduced one problem: how to enforce diversity in the search results.\n",
    " \n",
    "`Maximum marginal relevance` strives to achieve both relevance to the query *and diversity* among the results."
   ]
  },
  {
   "cell_type": "code",
   "execution_count": 12,
   "id": "9bb2c0a9",
   "metadata": {
    "height": 47,
    "tags": []
   },
   "outputs": [],
   "source": [
    "question = \"Wo wird überall Risikobeurteilung durch unabhängige externe Stellen erwähnt?\"\n",
    "docs_ss = vectordb.similarity_search(question,k=3)"
   ]
  },
  {
   "cell_type": "code",
   "execution_count": 14,
   "id": "f07f8793",
   "metadata": {
    "height": 30,
    "tags": []
   },
   "outputs": [
    {
     "data": {
      "text/plain": [
       "'eingesetzt werden sollen und bei denen Genauigkeit, Zuverlässigkeit und Transparenz \\nbesonders wichtig sind, als hochriskant einzustufen, um nachteilige Auswirkungen zu \\nvermeiden, das Vertrauen der Öffentlichkeit zu erhalten und die Rechenschaftspflicht und \\neinen wirksamen Rechtsschutz zu gewährleisten.'"
      ]
     },
     "execution_count": 14,
     "metadata": {},
     "output_type": "execute_result"
    }
   ],
   "source": [
    "docs_ss[0].page_content[:1000]"
   ]
  },
  {
   "cell_type": "code",
   "execution_count": 15,
   "id": "e9f7e165",
   "metadata": {
    "height": 30,
    "tags": []
   },
   "outputs": [
    {
     "data": {
      "text/plain": [
       "'eingesetzt werden sollen und bei denen Genauigkeit, Zuverlässigkeit und Transparenz \\nbesonders wichtig sind, als hochriskant einzustufen, um nachteilige Auswirkungen zu \\nvermeiden, das Vertrauen der Öffentlichkeit zu erhalten und die Rechenschaftspflicht und \\neinen wirksamen Rechtsschutz zu gewährleisten.'"
      ]
     },
     "execution_count": 15,
     "metadata": {},
     "output_type": "execute_result"
    }
   ],
   "source": [
    "docs_ss[1].page_content[:1000]"
   ]
  },
  {
   "cell_type": "markdown",
   "id": "4c4ca1b6",
   "metadata": {},
   "source": [
    "Note the difference in results with `MMR`."
   ]
  },
  {
   "cell_type": "code",
   "execution_count": 16,
   "id": "222234c5",
   "metadata": {
    "height": 30,
    "tags": []
   },
   "outputs": [],
   "source": [
    "docs_mmr = vectordb.max_marginal_relevance_search(question,k=3)"
   ]
  },
  {
   "cell_type": "code",
   "execution_count": 17,
   "id": "93b20226",
   "metadata": {
    "height": 30,
    "tags": []
   },
   "outputs": [
    {
     "data": {
      "text/plain": [
       "'eingesetzt werden sollen und bei denen Genauigkeit, Zuverlässigkeit und Transparenz \\nbesonders wicht'"
      ]
     },
     "execution_count": 17,
     "metadata": {},
     "output_type": "execute_result"
    }
   ],
   "source": [
    "docs_mmr[0].page_content[:100]"
   ]
  },
  {
   "cell_type": "code",
   "execution_count": 18,
   "id": "17d39762",
   "metadata": {
    "height": 30,
    "tags": []
   },
   "outputs": [
    {
     "data": {
      "text/plain": [
       "'systemische Risiken, die sich aus potenziellen Fehlanwendungen ergeben, zu bewerten. \\nDiese Anbieter'"
      ]
     },
     "execution_count": 18,
     "metadata": {},
     "output_type": "execute_result"
    }
   ],
   "source": [
    "docs_mmr[1].page_content[:100]"
   ]
  },
  {
   "cell_type": "markdown",
   "id": "b2b909bc",
   "metadata": {},
   "source": [
    "### Addressing Specificity: working with metadata\n",
    "\n",
    "In last lecture, we showed that a question about the third lecture can include results from other lectures as well.\n",
    "\n",
    "To address this, many vectorstores support operations on `metadata`.\n",
    "\n",
    "`metadata` provides context for each embedded chunk."
   ]
  },
  {
   "cell_type": "code",
   "execution_count": 23,
   "id": "3c1a60b2",
   "metadata": {
    "height": 30,
    "tags": []
   },
   "outputs": [],
   "source": [
    "question = \"Wie sind in der DSGVO technische und organisatorische Maßnahmen definiert?\""
   ]
  },
  {
   "cell_type": "code",
   "execution_count": 26,
   "id": "a8612840",
   "metadata": {
    "height": 98,
    "tags": []
   },
   "outputs": [],
   "source": [
    "docs = vectordb.similarity_search(\n",
    "    question,\n",
    "    k=3,\n",
    "    filter={\"source\":\"pdfs/AI-Act.pdf\"}\n",
    ")"
   ]
  },
  {
   "cell_type": "code",
   "execution_count": 28,
   "id": "97031876",
   "metadata": {
    "height": 47,
    "tags": []
   },
   "outputs": [
    {
     "name": "stdout",
     "output_type": "stream",
     "text": [
      "{'page': 22, 'source': 'pdfs/DSGVO.pdf'}\n",
      "02016R0679 — DE — 04.05.2016 — 000.003 — 23  \n",
      "(2) Sofern dies in einem angemessenen Verhältnis zu de\n",
      "{'page': 395, 'source': 'pdfs/AI-Act.pdf'}\n",
      "396/460 RR\\A9-0188/2023DE.docx\n",
      "DEb) Grad der Verantwortung des Organs, der Einrichtung oder der sons\n",
      "{'page': 395, 'source': 'pdfs/AI-Act.pdf'}\n",
      "396/460 RR\\A9-0188/2023DE.docx\n",
      "DEb) Grad der Verantwortung des Organs, der Einrichtung oder der sons\n"
     ]
    }
   ],
   "source": [
    "for d in docs:\n",
    "    print(d.metadata)\n",
    "    print(d.page_content[:100])"
   ]
  },
  {
   "cell_type": "markdown",
   "id": "ccc2d784",
   "metadata": {},
   "source": [
    "### Addressing Specificity: working with metadata using self-query retriever\n",
    "\n",
    "But we have an interesting challenge: we often want to infer the metadata from the query itself.\n",
    "\n",
    "To address this, we can use `SelfQueryRetriever`, which uses an LLM to extract:\n",
    " \n",
    "1. The `query` string to use for vector search\n",
    "2. A metadata filter to pass in as well\n",
    "\n",
    "Most vector databases support metadata filters, so this doesn't require any new databases or indexes."
   ]
  },
  {
   "cell_type": "code",
   "execution_count": 29,
   "id": "b1d06084",
   "metadata": {
    "height": 64,
    "tags": []
   },
   "outputs": [],
   "source": [
    "from langchain_openai import OpenAI\n",
    "from langchain.retrievers.self_query.base import SelfQueryRetriever\n",
    "from langchain.chains.query_constructor.base import AttributeInfo"
   ]
  },
  {
   "cell_type": "code",
   "execution_count": 30,
   "id": "0aa5e698",
   "metadata": {
    "height": 232,
    "tags": []
   },
   "outputs": [],
   "source": [
    "metadata_field_info = [\n",
    "    AttributeInfo(\n",
    "        name=\"source\",\n",
    "        description=\"The document chunk is from, should be one of `pdfs/AI-Act.pdf`\",\n",
    "        type=\"string\",\n",
    "    ),\n",
    "    AttributeInfo(\n",
    "        name=\"page\",\n",
    "        description=\"The page from the AI-Act document\",\n",
    "        type=\"integer\",\n",
    "    ),\n",
    "]"
   ]
  },
  {
   "cell_type": "markdown",
   "id": "0e143f05-908f-463d-a9de-408526c3947f",
   "metadata": {
    "tags": []
   },
   "source": [
    "**Note:** The default model for `OpenAI` (\"from langchain.llms import OpenAI\") is `text-davinci-003`. Due to the deprication of OpenAI's model `text-davinci-003` on 4 January 2024, you'll be using OpenAI's recommended replacement model `gpt-3.5-turbo-instruct` instead."
   ]
  },
  {
   "cell_type": "code",
   "execution_count": 31,
   "id": "fc9de693-7bdb-463e-b124-9f72163b0bd8",
   "metadata": {
    "height": 166,
    "tags": []
   },
   "outputs": [],
   "source": [
    "document_content_description = \"AI-Act\"\n",
    "llm = OpenAI(model='gpt-3.5-turbo-instruct', temperature=0)\n",
    "retriever = SelfQueryRetriever.from_llm(\n",
    "    llm,\n",
    "    vectordb,\n",
    "    document_content_description,\n",
    "    metadata_field_info,\n",
    "    verbose=True\n",
    ")"
   ]
  },
  {
   "cell_type": "code",
   "execution_count": 36,
   "id": "79d781b9",
   "metadata": {
    "height": 30,
    "tags": []
   },
   "outputs": [],
   "source": [
    "question = \"Wo werden überall im AI-Act Katzen erwähnt?\""
   ]
  },
  {
   "cell_type": "markdown",
   "id": "c51778b0-1fcd-40a4-bd6b-0f13fec8acb1",
   "metadata": {},
   "source": [
    "**You will receive a warning** about predict_and_parse being deprecated the first time you executing the next line. This can be safely ignored."
   ]
  },
  {
   "cell_type": "code",
   "execution_count": 37,
   "id": "1d4f9f7d",
   "metadata": {
    "height": 30,
    "tags": []
   },
   "outputs": [],
   "source": [
    "docs = retriever.invoke(question)"
   ]
  },
  {
   "cell_type": "code",
   "execution_count": 38,
   "id": "db04374e",
   "metadata": {
    "height": 47,
    "tags": []
   },
   "outputs": [
    {
     "name": "stdout",
     "output_type": "stream",
     "text": [
      "{'page': 117, 'source': 'pdfs/AI-Act.pdf'}\n",
      "bestimmten Kategorien zuordnen können. Solche spezifischen Kategorien können \n",
      "Aspekte wie etwa Geschlecht, Alter, Haarfarbe, Augenfarbe, Tätowierungen, \n",
      "persönliche Merkmale, ethnische Herkunft sowie \n",
      "{'page': 117, 'source': 'pdfs/AI-Act.pdf'}\n",
      "bestimmten Kategorien zuordnen können. Solche spezifischen Kategorien können \n",
      "Aspekte wie etwa Geschlecht, Alter, Haarfarbe, Augenfarbe, Tätowierungen, \n",
      "persönliche Merkmale, ethnische Herkunft sowie \n",
      "{'page': 89, 'source': 'pdfs/AI-Act.pdf'}\n",
      "KI-System betroffen sein könnten, unabhängige Sachverständige und Organisationen \n",
      "der Zivilgesellschaft, in die Durchführung solcher Folgenabschätzungen und die \n",
      "Gestaltung von Maßnahmen, die im Falle\n",
      "{'page': 89, 'source': 'pdfs/AI-Act.pdf'}\n",
      "KI-System betroffen sein könnten, unabhängige Sachverständige und Organisationen \n",
      "der Zivilgesellschaft, in die Durchführung solcher Folgenabschätzungen und die \n",
      "Gestaltung von Maßnahmen, die im Falle\n"
     ]
    }
   ],
   "source": [
    "for d in docs:\n",
    "    print(d.metadata)\n",
    "    print(d.page_content[:200])"
   ]
  },
  {
   "cell_type": "markdown",
   "id": "297b8168",
   "metadata": {},
   "source": [
    "### Additional tricks: compression\n",
    "\n",
    "Another approach for improving the quality of retrieved docs is compression.\n",
    "\n",
    "Information most relevant to a query may be buried in a document with a lot of irrelevant text. \n",
    "\n",
    "Passing that full document through your application can lead to more expensive LLM calls and poorer responses.\n",
    "\n",
    "Contextual compression is meant to fix this. "
   ]
  },
  {
   "cell_type": "code",
   "execution_count": 39,
   "id": "a060cf74",
   "metadata": {
    "height": 47,
    "tags": []
   },
   "outputs": [],
   "source": [
    "from langchain.retrievers import ContextualCompressionRetriever\n",
    "from langchain.retrievers.document_compressors import LLMChainExtractor"
   ]
  },
  {
   "cell_type": "code",
   "execution_count": 40,
   "id": "038649c8",
   "metadata": {
    "height": 64,
    "tags": []
   },
   "outputs": [],
   "source": [
    "def pretty_print_docs(docs):\n",
    "    print(f\"\\n{'-' * 100}\\n\".join([f\"Document {i+1}:\\n\\nSource: {d.metadata}\\n\\n\" + d.page_content for i, d in enumerate(docs)]))\n"
   ]
  },
  {
   "cell_type": "code",
   "execution_count": 41,
   "id": "fc686cf2",
   "metadata": {
    "height": 64,
    "tags": []
   },
   "outputs": [],
   "source": [
    "# Wrap our vectorstore\n",
    "llm = OpenAI(temperature=0, model=\"gpt-3.5-turbo-instruct\")\n",
    "compressor = LLMChainExtractor.from_llm(llm)"
   ]
  },
  {
   "cell_type": "code",
   "execution_count": 43,
   "id": "82794397",
   "metadata": {
    "height": 81,
    "tags": []
   },
   "outputs": [],
   "source": [
    "compression_retriever = ContextualCompressionRetriever(\n",
    "    base_compressor=compressor,\n",
    "    base_retriever=vectordb.as_retriever(search_type = \"mmr\")\n",
    ")"
   ]
  },
  {
   "cell_type": "code",
   "execution_count": 44,
   "id": "cde86848",
   "metadata": {
    "height": 64,
    "tags": []
   },
   "outputs": [
    {
     "name": "stdout",
     "output_type": "stream",
     "text": [
      "Document 1:\n",
      "\n",
      "Source: {'page': 68, 'source': 'pdfs/AI-Act.pdf'}\n",
      "\n",
      "- Das Recht auf Privatsphäre und den Schutz personenbezogener Daten muss während des gesamten Lebenszyklus des KI-Systems sichergestellt sein.\n",
      "- In dieser Hinsicht gelten die Grundsätze der Datenminimierung und des Datenschutzes durch Technikgestaltung und Voreinstellungen, wie sie im Datenschutzrecht der Union festgelegt sind, wenn personenbezogene Daten verarbeitet werden.\n",
      "----------------------------------------------------------------------------------------------------\n",
      "Document 2:\n",
      "\n",
      "Source: {'page': 295, 'source': 'pdfs/AI-Act.pdf'}\n",
      "\n",
      "- Anbieter von KI-Modellen mit allgemeinem Verwendungszweck mit systemischem Risiko \n",
      "- harmonisierten Norm \n",
      "- Praxisleitfäden \n",
      "- Einhaltung der in Absatz 1 des vorliegenden Artikels genannten Pflichten \n",
      "- harmonisierten europäischen Norm \n",
      "- Vermutung der Konformität \n",
      "- Anbieter von KI-Modellen mit allgemeinem Verwendungszweck mit systemischem Risiko, die einen genehmigten Praxisleitfaden nicht befolgen oder eine harmonisierte europäische Norm nicht einhalten, müssen geeignete alternative Verfahren der Einhaltung aufzeigen \n",
      "- Informationen oder Dokumentation, die gemäß diesem Artikel erlangt werden\n",
      "----------------------------------------------------------------------------------------------------\n",
      "Document 3:\n",
      "\n",
      "Source: {'page': 3, 'source': 'pdfs/AI-Act.pdf'}\n",
      "\n",
      "- Verarbeitung personenbezogener Daten\n",
      "- Verwendung von KI-Systemen zur biometrischen Fernidentifizierung zu Strafverfolgungszwecken\n",
      "- Verwendung von KI-Systemen für die Risikobewertung natürlicher Personen zu Strafverfolgungszwecken\n",
      "- Verwendung von KI-Systemen zur biometrischen Kategorisierung zu Strafverfolgungszwecken\n",
      "- Verordnung in Bezug auf diese konkreten Vorschriften auf Artikel 16 AEUV zu stützen\n",
      "- Artikel 16 AEUV\n",
      "- Europäischer Datenschutzausschuss zu konsultieren\n",
      "----------------------------------------------------------------------------------------------------\n",
      "Document 4:\n",
      "\n",
      "Source: {'page': 244, 'source': 'pdfs/AI-Act.pdf'}\n",
      "\n",
      "- Artikel 28\n",
      "- Notifizierende Behörden\n"
     ]
    }
   ],
   "source": [
    "question = \"Wo wird Datenschutz im AI-Act erwähnt?\"\n",
    "compressed_docs = compression_retriever.invoke(question)\n",
    "pretty_print_docs(compressed_docs)"
   ]
  },
  {
   "cell_type": "markdown",
   "id": "82c4fc4d",
   "metadata": {},
   "source": [
    "## Combining various techniques"
   ]
  },
  {
   "cell_type": "code",
   "execution_count": 45,
   "id": "161ae1ad",
   "metadata": {
    "height": 81,
    "tags": []
   },
   "outputs": [],
   "source": [
    "compression_retriever = ContextualCompressionRetriever(\n",
    "    base_compressor=compressor,\n",
    "    base_retriever=vectordb.as_retriever(search_type = \"mmr\")\n",
    ")"
   ]
  },
  {
   "cell_type": "code",
   "execution_count": 46,
   "id": "e77ccae1",
   "metadata": {
    "height": 64,
    "tags": []
   },
   "outputs": [
    {
     "name": "stdout",
     "output_type": "stream",
     "text": [
      "Document 1:\n",
      "\n",
      "Source: {'page': 380, 'source': 'pdfs/AI-Act.pdf'}\n",
      "\n",
      "- Die Kommission kann beschließen, unabhängige Sachverständige zu benennen, die in ihrem Namen Bewertungen durchführen, einschließlich aus dem gemäß Artikel 68 eingesetzten wissenschaftlichen Gremium.\n",
      "- Die für diese Aufgabe benannten unabhängigen Sachverständigen erfüllen die in Artikel 68 Absatz 2 umrissenen Kriterien.\n",
      "- Im Falle juristischer Personen, Gesellschaften oder – wenn der Anbieter keine Rechtspersönlichkeit besitzt – die Personen, die nach Gesetz oder ihrer Satzung zur Vertretung dieser Personen befugt sind, stellen den angeforderten Zugang im Namen des Anbieters des betreffenden KI-Modells mit allgemeinem Verwendungszweck zur Verfügung.\n",
      "----------------------------------------------------------------------------------------------------\n",
      "Document 2:\n",
      "\n",
      "Source: {'page': 135, 'source': 'pdfs/AI-Act.pdf'}\n",
      "\n",
      "- unabhängiger Sachverständiger\n",
      "- AI-Act\n",
      "- Fachwissen im KI-Bereich\n",
      "- Aufgaben unparteiisch, objektiv und unter Achtung der Vertraulichkeit\n",
      "- Durchführung ihrer Aufgaben und Tätigkeiten\n",
      "- Aufstockung der nationalen Kapazitäten\n",
      "- wirksame Durchsetzung dieser Verordnung\n",
      "- Mitgliedstaaten\n",
      "- Durchsetzungstätigkeiten\n",
      "- Unterstützung aus dem Pool von Sachverständigen\n",
      "- wissenschaftliche Gremium\n",
      "----------------------------------------------------------------------------------------------------\n",
      "Document 3:\n",
      "\n",
      "Source: {'page': 249, 'source': 'pdfs/AI-Act.pdf'}\n",
      "\n",
      "Unabhängigkeit, Objektivität und Unparteilichkeit gewahrt sind. Von den notifizierten Stellen werden eine Struktur und Verfahren dokumentiert und umgesetzt, die ihre Unparteilichkeit gewährleisten und sicherstellen, dass die Grundsätze der Unparteilichkeit in ihrer gesamten Organisation, von allen Mitarbeitern und bei allen Bewertungstätigkeiten gefördert und angewandt werden.\n",
      "----------------------------------------------------------------------------------------------------\n",
      "Document 4:\n",
      "\n",
      "Source: {'page': 105, 'source': 'pdfs/AI-Act.pdf'}\n",
      "\n",
      "- Das Büro für Künstliche Intelligenz sollte die Ausarbeitung, Überprüfung und Anpassung von Praxisleitfäden unter Berücksichtigung internationaler Ansätze fördern und erleichtern.\n",
      "- Um sicherzustellen, dass die Praxisleitfäden dem Stand der Technik entsprechen und unterschiedlichen Perspektiven gebührend Rechnung tragen, sollte das Büro für Künstliche Intelligenz bei der Ausarbeitung solcher Leitfäden mit den einschlägigen zuständigen nationalen Behörden zusammenarbeiten und könnte dabei gegebenenfalls Organisationen der Zivilgesellschaft und andere einschlägige Interessenträger und Sachverständige, einschließlich des wissenschaftlichen Gremiums, konsultieren.\n",
      "- Die Praxisleitfäden sollten die Pflichten für Anbieter von KI-Modellen mit allgemeinem Verwendungszweck und von KI-Modellen mit allgemeinem Verwendungszweck, die systemische Risiken bergen, abdecken.\n",
      "- Bei den Praxisleitfäden sollten auch auf\n"
     ]
    }
   ],
   "source": [
    "question = \"Wo wird überall ein unabhängiger Sachverständiger im AI-Act erwähnt?\"\n",
    "compressed_docs = compression_retriever.invoke(question)\n",
    "pretty_print_docs(compressed_docs)"
   ]
  },
  {
   "cell_type": "markdown",
   "id": "6c2b63e1",
   "metadata": {},
   "source": [
    "## Other types of retrieval\n",
    "\n",
    "It's worth noting that vectordb as not the only kind of tool to retrieve documents. \n",
    "\n",
    "The `LangChain` retriever abstraction includes other ways to retrieve documents, such as TF-IDF or SVM."
   ]
  },
  {
   "cell_type": "code",
   "execution_count": 47,
   "id": "83d2e808",
   "metadata": {
    "height": 81,
    "tags": []
   },
   "outputs": [],
   "source": [
    "from langchain.retrievers import SVMRetriever\n",
    "from langchain.retrievers import TFIDFRetriever\n",
    "from langchain.document_loaders import PyPDFLoader\n",
    "from langchain.text_splitter import RecursiveCharacterTextSplitter"
   ]
  },
  {
   "cell_type": "code",
   "execution_count": 48,
   "id": "bcf5b760",
   "metadata": {
    "height": 183,
    "tags": []
   },
   "outputs": [],
   "source": [
    "# Load PDF\n",
    "loader = PyPDFLoader(\"pdfs/AI-Act.pdf\")\n",
    "pages = loader.load()\n",
    "all_page_text=[p.page_content for p in pages]\n",
    "joined_page_text=\" \".join(all_page_text)\n",
    "\n",
    "# Split\n",
    "text_splitter = RecursiveCharacterTextSplitter(chunk_size = 1500,chunk_overlap = 150)\n",
    "splits = text_splitter.split_text(joined_page_text)\n"
   ]
  },
  {
   "cell_type": "code",
   "execution_count": 49,
   "id": "9bb0d781",
   "metadata": {
    "height": 64,
    "tags": []
   },
   "outputs": [],
   "source": [
    "# Retrieve\n",
    "svm_retriever = SVMRetriever.from_texts(splits,embedding)\n",
    "tfidf_retriever = TFIDFRetriever.from_texts(splits)"
   ]
  },
  {
   "cell_type": "code",
   "execution_count": 50,
   "id": "0b1cc35f",
   "metadata": {
    "height": 64,
    "tags": []
   },
   "outputs": [
    {
     "data": {
      "text/plain": [
       "Document(page_content='Datenverarbeitung hinaus, indem Lern-, Schlussfolgerungs- und Modellierungsprozesse \\nermöglicht werden. Die Bezeichnung „maschinenbasiert“ bezieht sich auf die Tatsache, \\ndass KI-Systeme von Maschinen betrieben werden.  14/460 RR\\\\A9-0188/2023DE.docx\\nDEDurch die Bezugnahme auf explizite oder implizite Ziele wird betont, dass KI-Systeme \\ngemäß explizit festgelegten Zielen oder gemäß impliziten Zielen arbeiten können. Die \\nZiele des KI-Systems können sich – unter bestimmten Umständen – von der \\nZweckbestimmung des KI-Systems unterscheiden. Für die Zwecke dieser Verordnung \\nsollten Umgebungen als Kontexte verstanden werden, in denen KI-Systeme betrieben \\nwerden, während die von einem KI-System erzeugten Ausgaben verschiedene \\nFunktionen von KI-Systemen widerspiegeln, darunter Vorhersagen, Inhalte, \\nEmpfehlungen oder Entscheidungen. KI-Systeme sind mit verschiedenen Graden der \\nAutonomie ausgestattet, was bedeutet, dass sie bis zu einem gewissen Grad unabhängig \\nvon menschlichem Zutun agieren und in der Lage sind, ohne menschliches Eingreifen \\nzu arbeiten. Die Anpassungsfähigkeit, die ein KI-System nach Inbetriebnahme \\naufweisen könnte, bezieht sich auf seine Lernfähigkeit, durch sie es sich während seiner \\nVerwendung verändern kann. KI-Systeme können eigenständig oder als Bestandteil \\neines Produkts verwendet werden, unabhängig davon, ob das System physisch in das \\nProdukt integriert (eingebettet) ist oder der Funktion des Produkts dient, ohne darin')"
      ]
     },
     "execution_count": 50,
     "metadata": {},
     "output_type": "execute_result"
    }
   ],
   "source": [
    "question = \"Wo wird überall KI-System im AI-Act erwähnt?\"\n",
    "docs_svm=svm_retriever.invoke(question)\n",
    "docs_svm[0]"
   ]
  },
  {
   "cell_type": "code",
   "execution_count": 51,
   "id": "2a1659c0",
   "metadata": {
    "height": 64,
    "tags": []
   },
   "outputs": [
    {
     "data": {
      "text/plain": [
       "Document(page_content='auswirken, wenn das KI-System beispielsweise falsche Entscheidungen trifft oder falsche \\noder verzerrte Ausgaben hervorbringt.\\n(76) Die Cybersicherheit spielt eine entscheidende Rolle, wenn es darum geht, sicherzustellen, \\ndass KI-Systeme widerstandsfähig gegenüber Versuchen böswilliger Dritter sind, unter \\nAusnutzung der Schwachstellen der Systeme deren Verwendung, Verhalten, Leistung zu \\nverändern oder ihre Sicherheitsmerkmale zu beeinträchtigen. Cyberangriffe auf KI-\\nSysteme können KI-spezifische Ressourcen wie Trainingsdatensätze (z. B. \\nDatenvergiftung) oder trainierte Modelle (z. B. feindliche Angriffe oder Inferenzangriffe \\nauf Mitgliederdaten) nutzen oder Schwachstellen in den digitalen Ressourcen des KI-\\nSystems oder der zugrunde liegenden IKT-Infrastruktur ausnutzen. Um ein den Risiken \\nangemessenes Cybersicherheitsniveau zu gewährleisten, sollten die Anbieter von \\nHochrisiko-KI-Systemen daher geeignete Maßnahmen, etwa Sicherheitskontrollen, \\nergreifen, wobei gegebenenfalls auch die zugrunde liegende IKT-Infrastruktur zu \\nberücksichtigen ist. RR\\\\A9-0188/2023DE.docx 75/460\\nDE(77) Unbeschadet der in dieser Verordnung festgelegten Anforderungen an Robustheit und \\nGenauigkeit können Hochrisiko-AI-Systeme, die in den Geltungsbereich einer \\nVerordnung des Europäischen Parlaments und des Rates über horizontale \\nCybersicherheitsanforderungen für Produkte mit digitalen Elementen gemäß der \\ngenannten Verordnung fallen, die Erfüllung der Cybersicherheitsanforderungen der')"
      ]
     },
     "execution_count": 51,
     "metadata": {},
     "output_type": "execute_result"
    }
   ],
   "source": [
    "question = \"Wo wird überall KI-System im AI-Act erwähnt?\"\n",
    "docs_tfidf=tfidf_retriever.invoke(question)\n",
    "docs_tfidf[0]"
   ]
  },
  {
   "cell_type": "code",
   "execution_count": null,
   "id": "dacda8a0",
   "metadata": {},
   "outputs": [],
   "source": []
  }
 ],
 "metadata": {
  "kernelspec": {
   "display_name": "Python 3 (ipykernel)",
   "language": "python",
   "name": "python3"
  },
  "language_info": {
   "codemirror_mode": {
    "name": "ipython",
    "version": 3
   },
   "file_extension": ".py",
   "mimetype": "text/x-python",
   "name": "python",
   "nbconvert_exporter": "python",
   "pygments_lexer": "ipython3",
   "version": "3.9.19"
  }
 },
 "nbformat": 4,
 "nbformat_minor": 5
}
